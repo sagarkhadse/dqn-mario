{
  "nbformat": 4,
  "nbformat_minor": 0,
  "metadata": {
    "orig_nbformat": 2,
    "kernelspec": {
      "name": "python3",
      "display_name": "Python 3"
    },
    "metadata": {
      "interpreter": {
        "hash": "49369d6fc42c9a0d5988063740675690f3ec91fc126c17410d8dc6aa78019e91"
      }
    },
    "colab": {
      "name": "train.ipynb",
      "provenance": []
    },
    "language_info": {
      "name": "python"
    },
    "accelerator": "GPU"
  },
  "cells": [
    {
      "cell_type": "code",
      "metadata": {
        "id": "S04hh1bi33gR"
      },
      "source": [
        "%cd /content/\n",
        "!git clone https://github.com/sagarkhadse/dqn-mario\n",
        "!pip install gym gym_super_mario_bros\n",
        "%cd /content/dqn-mario/"
      ],
      "execution_count": null,
      "outputs": []
    },
    {
      "cell_type": "code",
      "metadata": {
        "id": "6HzXfppz3rmY"
      },
      "source": [
        "import datetime\n",
        "from pathlib import Path\n",
        "\n",
        "import gym\n",
        "from gym.wrappers import FrameStack, GrayScaleObservation, TransformObservation\n",
        "from nes_py.wrappers import JoypadSpace\n",
        "import gym_super_mario_bros\n",
        "from gym_super_mario_bros.actions import SIMPLE_MOVEMENT\n",
        "\n",
        "from agent import MarioAgent\n",
        "from metrics import MetricLogger\n",
        "from wrappers import ResizeObservation, SkipFrame"
      ],
      "execution_count": 10,
      "outputs": []
    },
    {
      "cell_type": "code",
      "metadata": {
        "id": "qpXFwuZu3rmg"
      },
      "source": [
        "def apply_wrappers(env):\n",
        "    env = SkipFrame(env, skip=4)\n",
        "    env = GrayScaleObservation(env, keep_dim=False)\n",
        "    env = ResizeObservation(env, shape=84)\n",
        "    env = TransformObservation(env, f=lambda x: x / 255.)\n",
        "    env = FrameStack(env, num_stack=4)\n",
        "    return env"
      ],
      "execution_count": 11,
      "outputs": []
    },
    {
      "cell_type": "code",
      "metadata": {
        "id": "ZksXH1623rmh"
      },
      "source": [
        "def train(n_episodes, render=False, lr=0.02, net_type='dqn', checkpoint=None, out_dir='output/'):\n",
        "    # -------------------------------------------------------------------------------------------- #\n",
        "    # Environment Setup\n",
        "    # -------------------------------------------------------------------------------------------- #\n",
        "    env = gym_super_mario_bros.make('SuperMarioBros-1-1-v0')\n",
        "\n",
        "    # Simple Movement\n",
        "    # env = JoypadSpace(env, SIMPLE_MOVEMENT)\n",
        "\n",
        "    # Right and Jump Right\n",
        "    env = JoypadSpace(env, [ ['right'], ['A'], ['right', 'A'] ])\n",
        "\n",
        "    env = apply_wrappers(env)\n",
        "    env.reset()\n",
        "\n",
        "    n_inputs = 4\n",
        "    n_actions = env.action_space.n\n",
        "\n",
        "    # -------------------------------------------------------------------------------------------- #\n",
        "    # Init\n",
        "    # -------------------------------------------------------------------------------------------- #\n",
        "    out_dir.mkdir(parents=True)\n",
        "    logger = MetricLogger(out_dir)\n",
        "\n",
        "    mario_agent = MarioAgent(n_inputs, n_actions, lr=lr, net_type=net_type)\n",
        "    \n",
        "    # -------------------------------------------------------------------------------------------- #\n",
        "    # Training\n",
        "    # -------------------------------------------------------------------------------------------- #\n",
        "    for e in range(n_episodes):\n",
        "\n",
        "        state = env.reset()\n",
        "        while True:\n",
        "            if render:\n",
        "                env.render()\n",
        "            action = mario_agent.select_action(state)\n",
        "            next_state, reward, done, info = env.step(action)\n",
        "            q, loss = mario_agent.learn(state, next_state, action, reward, done)\n",
        "            logger.log_step(reward, loss, q)\n",
        "            state = next_state\n",
        "\n",
        "            if done or info['flag_get']:\n",
        "                break\n",
        "        logger.log_episode()\n",
        "\n",
        "        if e % 20 == 0:\n",
        "            logger.record(episode=e, step=mario_agent.step, epsilon=mario_agent.eps_threshold)\n",
        "    \n",
        "    # -------------------------------------------------------------------------------------------- #\n",
        "    # Save Model\n",
        "    # -------------------------------------------------------------------------------------------- #\n",
        "    mario_agent.save(out_dir / f\"/model.dat\")"
      ],
      "execution_count": 12,
      "outputs": []
    },
    {
      "cell_type": "code",
      "metadata": {
        "id": "1BLmTJC33rmh"
      },
      "source": [
        "out_dir = Path('results') / datetime.datetime.now().strftime('%Y-%m-%dT%H-%M-%S')\n",
        "train(5000, render=False, out_dir=out_dir)"
      ],
      "execution_count": null,
      "outputs": []
    }
  ]
}