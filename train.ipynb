{
 "metadata": {
  "language_info": {
   "codemirror_mode": {
    "name": "ipython",
    "version": 3
   },
   "file_extension": ".py",
   "mimetype": "text/x-python",
   "name": "python",
   "nbconvert_exporter": "python",
   "pygments_lexer": "ipython3",
   "version": "3.8.9"
  },
  "orig_nbformat": 2,
  "kernelspec": {
   "name": "pythonjvsc74a57bd049369d6fc42c9a0d5988063740675690f3ec91fc126c17410d8dc6aa78019e91",
   "display_name": "Python 3.8.9 64-bit ('venv': venv)"
  },
  "metadata": {
   "interpreter": {
    "hash": "49369d6fc42c9a0d5988063740675690f3ec91fc126c17410d8dc6aa78019e91"
   }
  }
 },
 "nbformat": 4,
 "nbformat_minor": 2,
 "cells": [
  {
   "cell_type": "code",
   "execution_count": 1,
   "metadata": {},
   "outputs": [],
   "source": [
    "import datetime\n",
    "from pathlib import Path\n",
    "\n",
    "import gym\n",
    "from gym.wrappers import FrameStack, GrayScaleObservation, TransformObservation\n",
    "from nes_py.wrappers import JoypadSpace\n",
    "import gym_super_mario_bros\n",
    "from gym_super_mario_bros.actions import SIMPLE_MOVEMENT\n",
    "\n",
    "from agent import MarioAgent\n",
    "from metrics import MetricLogger\n",
    "from wrappers import ResizeObservation, SkipFrame"
   ]
  },
  {
   "cell_type": "code",
   "execution_count": 2,
   "metadata": {},
   "outputs": [],
   "source": [
    "def apply_wrappers(env):\n",
    "    env = SkipFrame(env, skip=4)\n",
    "    env = GrayScaleObservation(env, keep_dim=False)\n",
    "    env = ResizeObservation(env, shape=84)\n",
    "    env = TransformObservation(env, f=lambda x: x / 255.)\n",
    "    env = FrameStack(env, num_stack=4)\n",
    "    return env"
   ]
  },
  {
   "cell_type": "code",
   "execution_count": 3,
   "metadata": {},
   "outputs": [],
   "source": [
    "def train(n_episodes, render=False, lr=0.02, net_type='dqn', checkpoint=None, out_dir='output/'):\n",
    "    # -------------------------------------------------------------------------------------------- #\n",
    "    # Environment Setup\n",
    "    # -------------------------------------------------------------------------------------------- #\n",
    "    env = gym_super_mario_bros.make('SuperMarioBros-1-1-v0')\n",
    "\n",
    "    # Simple Movement\n",
    "    env = JoypadSpace(env, SIMPLE_MOVEMENT)\n",
    "\n",
    "    # Right and Jump Right\n",
    "    # env = JoypadSpace(env, [ ['right'], ['right', 'A'] ])\n",
    "\n",
    "    env = apply_wrappers(env)\n",
    "    env.reset()\n",
    "\n",
    "    n_inputs = 4\n",
    "    n_actions = env.action_space.n\n",
    "\n",
    "    # -------------------------------------------------------------------------------------------- #\n",
    "    # Init\n",
    "    # -------------------------------------------------------------------------------------------- #\n",
    "    out_dir.mkdir(parents=True)\n",
    "    logger = MetricLogger(out_dir)\n",
    "\n",
    "    mario_agent = MarioAgent(n_inputs, n_actions, lr=lr, net_type=net_type)\n",
    "    \n",
    "    # -------------------------------------------------------------------------------------------- #\n",
    "    # Training\n",
    "    # -------------------------------------------------------------------------------------------- #\n",
    "    for e in range(n_episodes):\n",
    "\n",
    "        state = env.reset()\n",
    "        while True:\n",
    "            if render:\n",
    "                env.render()\n",
    "            action = mario_agent.select_action(state)\n",
    "            next_state, reward, done, info = env.step(action)\n",
    "            q, loss = mario_agent.learn(state, next_state, action, reward, done)\n",
    "            logger.log_step(reward, loss, q)\n",
    "            state = next_state\n",
    "\n",
    "            if done or info['flag_get']:\n",
    "                break\n",
    "        logger.log_episode()\n",
    "\n",
    "        if e % 20 == 0:\n",
    "            logger.record(episode=e, step=mario_agent.step, epsilon=mario_agent.eps_threshold)\n",
    "    \n",
    "    # -------------------------------------------------------------------------------------------- #\n",
    "    # Save Model\n",
    "    # -------------------------------------------------------------------------------------------- #\n",
    "    mario_agent.save(out_dir / f\"/model.dat\")"
   ]
  },
  {
   "cell_type": "code",
   "execution_count": null,
   "metadata": {},
   "outputs": [],
   "source": [
    "out_dir = Path('results') / datetime.datetime.now().strftime('%Y-%m-%dT%H-%M-%S')\n",
    "train(10, render=False, out_dir=out_dir)"
   ]
  }
 ]
}